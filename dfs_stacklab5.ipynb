{
 "cells": [
  {
   "cell_type": "markdown",
   "id": "8ea7e5b5",
   "metadata": {},
   "source": [
    "# Depth Fast Search using Stack:"
   ]
  },
  {
   "cell_type": "code",
   "execution_count": 1,
   "id": "f2a3ab4d",
   "metadata": {},
   "outputs": [
    {
     "name": "stdout",
     "output_type": "stream",
     "text": [
      "\n",
      "Depth First Traversal(Stack Iterative):\n",
      "0 1 4 2 3 "
     ]
    }
   ],
   "source": [
    "def dfs_stack(graph,start):\n",
    "    visited=set()\n",
    "    stack=[start]\n",
    "\n",
    "    while stack:\n",
    "        ver=stack.pop()\n",
    "        if ver not in visited:\n",
    "            print(ver,end=\" \")\n",
    "            visited.add(ver)\n",
    "            stack.extend(graph[ver] - visited)\n",
    "\n",
    "graph={\n",
    "    '0': set(['1','2']),\n",
    "    '1': set(['0','3','4']),\n",
    "    '2': set(['0']), \n",
    "    '3': set(['1']),\n",
    "    '4': set(['2','3'])\n",
    "}\n",
    "\n",
    "print(\"\\nDepth First Traversal(Stack Iterative):\")\n",
    "dfs_stack(graph,'0')"
   ]
  }
 ],
 "metadata": {
  "kernelspec": {
   "display_name": "Python 3",
   "language": "python",
   "name": "python3"
  },
  "language_info": {
   "codemirror_mode": {
    "name": "ipython",
    "version": 3
   },
   "file_extension": ".py",
   "mimetype": "text/x-python",
   "name": "python",
   "nbconvert_exporter": "python",
   "pygments_lexer": "ipython3",
   "version": "3.13.0"
  }
 },
 "nbformat": 4,
 "nbformat_minor": 5
}
