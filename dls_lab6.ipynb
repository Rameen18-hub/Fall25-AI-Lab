{
 "cells": [
  {
   "cell_type": "markdown",
   "id": "50c5cd82",
   "metadata": {},
   "source": [
    "#  BFS without Queue (using simple list)\n",
    "\n"
   ]
  },
  {
   "cell_type": "code",
   "execution_count": 1,
   "id": "f6f534f7",
   "metadata": {},
   "outputs": [
    {
     "name": "stdout",
     "output_type": "stream",
     "text": [
      "\n",
      " BFS Traversal(Without Queue and Node):\n",
      "A B C D E F G H I K L M "
     ]
    }
   ],
   "source": [
    "def bfs_without_queue(graph,start):\n",
    "    visited=[]\n",
    "    to_visit=[start]\n",
    "\n",
    "    while to_visit:\n",
    "        ver = to_visit[0]\n",
    "        to_visit=to_visit[1:]\n",
    "        if ver not in visited:\n",
    "            print(ver,end=\" \")\n",
    "            visited.append(ver)\n",
    "            to_visit.extend(graph[ver])\n",
    "\n",
    "graph={\n",
    " 'A':['B', 'C'],\n",
    " 'B':['D', 'E'],\n",
    " 'C': ['F'],\n",
    " 'D': ['G','H'],\n",
    " 'E': [],\n",
    " 'F':['I','K'],\n",
    " 'G':[],\n",
    " 'H':['L'],\n",
    " 'I':[],\n",
    " 'K':['M'],\n",
    " 'L':[],\n",
    " 'M':[]\n",
    "}\n",
    "print(\"\\n BFS Traversal(Without Queue and Node):\")\n",
    "bfs_without_queue(graph,'A')\n"
   ]
  },
  {
   "cell_type": "markdown",
   "id": "375733ce",
   "metadata": {},
   "source": [
    "# BFS with Queue and node\n"
   ]
  },
  {
   "cell_type": "code",
   "execution_count": 2,
   "id": "3e83a8f7",
   "metadata": {},
   "outputs": [
    {
     "name": "stdout",
     "output_type": "stream",
     "text": [
      "\n",
      "\n",
      "BFS Traversal (With Queue & Node):\n",
      "A B C D E F G H I K L M "
     ]
    }
   ],
   "source": [
    "from collections import deque\n",
    "\n",
    "def bfs_with_queue(graph,start):\n",
    "    visited=[]\n",
    "    queue=deque([start])\n",
    "\n",
    "    while queue:\n",
    "        ver=queue.popleft()\n",
    "        if ver not in visited:\n",
    "            print(ver, end=\" \")\n",
    "            visited.append(ver)\n",
    "            queue.extend(graph[ver])\n",
    "print(\"\\n\\nBFS Traversal (With Queue & Node):\")\n",
    "bfs_with_queue(graph, 'A')\n"
   ]
  }
 ],
 "metadata": {
  "kernelspec": {
   "display_name": "Python 3",
   "language": "python",
   "name": "python3"
  },
  "language_info": {
   "codemirror_mode": {
    "name": "ipython",
    "version": 3
   },
   "file_extension": ".py",
   "mimetype": "text/x-python",
   "name": "python",
   "nbconvert_exporter": "python",
   "pygments_lexer": "ipython3",
   "version": "3.13.0"
  }
 },
 "nbformat": 4,
 "nbformat_minor": 5
}
